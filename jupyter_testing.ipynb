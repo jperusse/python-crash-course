{
 "cells": [
  {
   "cell_type": "code",
   "execution_count": 1,
   "metadata": {},
   "outputs": [
    {
     "name": "stdout",
     "output_type": "stream",
     "text": [
      "Jim has blue eyes, brown hair, and is 6 foot 2 inches in height, and weighs 185 pounds\n",
      "Fat Albert has black eyes, brown hair, and is 6 foot 7 inches in height, and weighs 350 pounds\n"
     ]
    }
   ],
   "source": [
    "class Person:\n",
    "    \"\"\" Average Person with usual attributes: Hair color; Eye color, Height, and Weight \"\"\"\n",
    "    def __init__(self, name, hair_color, eye_color, height:tuple, weight) -> None:\n",
    "        self.name = name\n",
    "        self.hair_color = hair_color\n",
    "        self.eye_color = eye_color\n",
    "        self.height = height\n",
    "        self.weight = weight\n",
    "    \n",
    "    def __str__(self):\n",
    "        return f\"{self.name} has {self.eye_color} eyes, {self.hair_color} hair, and is {self.height[0]} foot {self.height[1]} inches in height, and weighs {self.weight} pounds\"\n",
    "        \n",
    "jp = Person(\"Jim\",\"brown\",\"blue\",(6,2),185)\n",
    "print(jp)\n",
    "\n",
    "fa = Person(\"Fat Albert\",\"brown\",\"black\",(6,7),350)\n",
    "print(fa)"
   ]
  }
 ],
 "metadata": {
  "kernelspec": {
   "display_name": "Python 3.11.0 64-bit",
   "language": "python",
   "name": "python3"
  },
  "language_info": {
   "codemirror_mode": {
    "name": "ipython",
    "version": 3
   },
   "file_extension": ".py",
   "mimetype": "text/x-python",
   "name": "python",
   "nbconvert_exporter": "python",
   "pygments_lexer": "ipython3",
   "version": "3.11.0"
  },
  "orig_nbformat": 4,
  "vscode": {
   "interpreter": {
    "hash": "d0dcd0bafdc9fd18892fcd0911ed659924eb1fd867c15309e9b3d8b225ffec69"
   }
  }
 },
 "nbformat": 4,
 "nbformat_minor": 2
}
